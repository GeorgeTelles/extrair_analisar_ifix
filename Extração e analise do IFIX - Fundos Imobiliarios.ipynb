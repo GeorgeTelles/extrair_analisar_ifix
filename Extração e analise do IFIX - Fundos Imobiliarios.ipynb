{
 "cells": [
  {
   "cell_type": "markdown",
   "id": "7049c3da",
   "metadata": {},
   "source": [
    "# Extração e Analise do IFIX"
   ]
  },
  {
   "cell_type": "markdown",
   "id": "248901f8",
   "metadata": {},
   "source": [
    "\n",
    "Esse projeto extrai e análisa o desempenho dos fundos de investimento que compõem o índice IFIX da B3. Este projeto realiza as seguintes etapas:\n",
    "\n",
    "- Coleta de Dados dos Ativos: Obtém a lista de todos os fundos imobiliários que fazem parte do IFIX diretamente do site da B3.\n",
    "\n",
    "- Download de Dados de Cotação: Utiliza a biblioteca yfinance para baixar dados históricos de cotações dos fundos listados.\n",
    "\n",
    "- Análise de Rentabilidade: Calcula e lista os 10 fundos mais rentáveis durante o período configurado.\n",
    "\n",
    "- Normalização dos Dados: Normaliza os dados de rentabilidade para facilitar a comparação entre os fundos.\n",
    "\n",
    "- Visualização: Plota um gráfico mostrando a rentabilidade dos fundos, proporcionando uma visão clara e intuitiva do desempenho dos fundos.\n",
    "\n",
    "Funcionalidades\n",
    "- Listagem de Fundos do IFIX: Identifica e lista todos os fundos que compõem o índice IFIX.\n",
    "- Baixa os Dados: Faz download dos dados de cotação para cada fundo usando yfinance.\n",
    "- Ranking de Rentabilidade: Classifica os fundos e exibe os 10 mais rentáveis em um período especificado.\n",
    "- Normalização e Plotagem: Normaliza os dados para uma comparação justa e cria gráficos de rentabilidade.\n"
   ]
  },
  {
   "cell_type": "markdown",
   "id": "d6a92887",
   "metadata": {},
   "source": [
    "# O que é o IFIX?\n",
    "\n",
    "O IFIX representa uma carteira teórica com os fundos imobiliários mais negociados do mercado. Esse índice foi criado pela B3, bolsa de valores brasileira, em 2012, com o objetivo de mostrar o retorno médio dos FIIs. Para isso, ele considera a variação dos preços e a distribuição de dividendos dos fundos imobiliários que compõem a carteira teórica.\n",
    "\n",
    "A cada quatro meses, essa carteira é revista, ocasiões nas quais são retirados do índice os FIIs que não preenchem mais seus pré-requisitos, e acrescentados os que estão de acordo com os seus critérios."
   ]
  },
  {
   "cell_type": "markdown",
   "id": "3e36f8d8",
   "metadata": {},
   "source": [
    "# 0. Importação das bibliotecas e modulos"
   ]
  },
  {
   "cell_type": "code",
   "execution_count": null,
   "id": "7eca8040",
   "metadata": {},
   "outputs": [],
   "source": [
    "import time\n",
    "from pathlib import Path\n",
    "import pandas as pd\n",
    "import requests\n",
    "from bs4 import BeautifulSoup\n",
    "\n",
    "import yfinance as yf\n",
    "\n",
    "from selenium import webdriver\n",
    "from selenium.webdriver.common.by import By\n",
    "from selenium.webdriver.support.ui import Select\n",
    "\n",
    "from datetime import datetime"
   ]
  },
  {
   "cell_type": "markdown",
   "id": "81f4bcaa",
   "metadata": {},
   "source": [
    "# 1. Pegando Dados da B3"
   ]
  },
  {
   "cell_type": "code",
   "execution_count": null,
   "id": "da60df17",
   "metadata": {},
   "outputs": [],
   "source": [
    "url = 'https://www.b3.com.br/pt_br/market-data-e-indices/indices/indices-de-segmentos-e-setoriais/indice-fundos-de-investimentos-imobiliarios-ifix-composicao-da-carteira.htm'"
   ]
  },
  {
   "cell_type": "markdown",
   "id": "a07aacb9",
   "metadata": {},
   "source": [
    "Processo automatizado para baixar os dados - Dura 12 segundos"
   ]
  },
  {
   "cell_type": "code",
   "execution_count": null,
   "id": "dd47971e",
   "metadata": {},
   "outputs": [],
   "source": [
    "driver = webdriver.Chrome()\n",
    "driver.get('https://sistemaswebb3-listados.b3.com.br/indexPage/day/IFIX?language=pt-br')\n",
    "time.sleep(5)\n",
    "\n",
    "#Achando o botão\n",
    "driver.find_element(By.XPATH, '//*[@id=\"divContainerIframeB3\"]/div/div[1]/form/div[2]/div/div[2]/div/div/div[1]/div[2]/p/a')\n",
    "time.sleep(3)\n",
    "\n",
    "#Clicando no botão\n",
    "driver.find_element(By.XPATH, '//*[@id=\"divContainerIframeB3\"]/div/div[1]/form/div[2]/div/div[2]/div/div/div[1]/div[2]/p/a').click()\n",
    "\n",
    "time.sleep(4)\n",
    "driver.quit()"
   ]
  },
  {
   "cell_type": "markdown",
   "id": "735fcaf2",
   "metadata": {},
   "source": [
    "# 2. Tratando o arquivo baixado"
   ]
  },
  {
   "cell_type": "code",
   "execution_count": null,
   "id": "68d393b8",
   "metadata": {},
   "outputs": [],
   "source": [
    "# Obtendo o diretório home do usuário\n",
    "home_dir = Path.home()\n",
    "\n",
    "# Construindo o caminho para a pasta Downloads\n",
    "downloads_dir = home_dir / 'Downloads'\n",
    "\n",
    "# O nome do arquivo muda com a data, então criei um nome dinamico tambem\n",
    "today_date = datetime.now().strftime('%d-%m-%y')\n",
    "\n",
    "# Construindo o nome do arquivo\n",
    "filename = f'IFIXDia_{today_date}.csv'\n",
    "\n",
    "# Construindo o caminho completo para o arquivo\n",
    "file_path = downloads_dir / filename\n",
    "\n",
    "# Verificando se o arquivo existe\n",
    "if file_path.exists():\n",
    "    print(f\"O arquivo foi achado!\")\n",
    "    # Lendo o conteúdo do arquivo\n",
    "    ifix = pd.read_csv(file_path, header = 1, encoding='latin-1', decimal = ',' ,sep = ';', index_col=False)\n",
    "else:\n",
    "    print(f\"O arquivo não foi encontrado.\")\n"
   ]
  },
  {
   "cell_type": "markdown",
   "id": "abe33abd",
   "metadata": {},
   "source": [
    "**Todos os ativos do IFIX**"
   ]
  },
  {
   "cell_type": "code",
   "execution_count": null,
   "id": "74df61ff",
   "metadata": {},
   "outputs": [],
   "source": [
    "ifix[:-2]\n",
    "#Retirei as ultimas 2 linhas por que tem o cabeçalho"
   ]
  },
  {
   "cell_type": "code",
   "execution_count": null,
   "id": "3b2ad0c6",
   "metadata": {},
   "outputs": [],
   "source": [
    "codigos = ifix[:-2].Código\n",
    "codigos"
   ]
  },
  {
   "cell_type": "markdown",
   "id": "bfdf112e",
   "metadata": {},
   "source": [
    "# 3. Análise dos FIIs do IFIX"
   ]
  },
  {
   "cell_type": "markdown",
   "id": "e50ed9ab",
   "metadata": {},
   "source": [
    "Adicionando o .SA nos tickers antes de obter dados"
   ]
  },
  {
   "cell_type": "code",
   "execution_count": null,
   "id": "e74b3af3",
   "metadata": {},
   "outputs": [],
   "source": [
    "tickers = list(ifix[:-2].Código)\n",
    "tickers = [i + '.SA' for i in tickers]"
   ]
  },
  {
   "cell_type": "code",
   "execution_count": null,
   "id": "78b7845e",
   "metadata": {},
   "outputs": [],
   "source": [
    "fiis = yf.download(tickers, start = \"2024-01-01\")['Adj Close']\n",
    "fiis"
   ]
  },
  {
   "cell_type": "markdown",
   "id": "4a578a9a",
   "metadata": {},
   "source": [
    "Normalizando as cotações e obtendo a última linha (mais recente), logo, a que passa a informação de rentabilidade no periodo configurado"
   ]
  },
  {
   "cell_type": "code",
   "execution_count": null,
   "id": "b1c6b059",
   "metadata": {},
   "outputs": [],
   "source": [
    "fiis_norm = fiis/fiis.iloc[0]\n",
    "fiis_norm.iloc[-1]"
   ]
  },
  {
   "cell_type": "markdown",
   "id": "112d9f49",
   "metadata": {},
   "source": [
    "Calculando em termos percentuais e ordenando do maior para o menor"
   ]
  },
  {
   "cell_type": "code",
   "execution_count": null,
   "id": "0fa510c4",
   "metadata": {},
   "outputs": [],
   "source": [
    "rentabilidade_fiis = (fiis_norm.iloc[-1] - 1)*100\n",
    "rentabilidade_fiis.sort_values(ascending  = False)"
   ]
  },
  {
   "cell_type": "markdown",
   "id": "62eafcc4",
   "metadata": {},
   "source": [
    "Obtendo os 10 Fiis que mais subiram"
   ]
  },
  {
   "cell_type": "code",
   "execution_count": null,
   "id": "59f31b1c",
   "metadata": {},
   "outputs": [],
   "source": [
    "rentabilidade_fiis.sort_values(ascending  = False).head(10)"
   ]
  },
  {
   "cell_type": "markdown",
   "id": "7bf1b3cb",
   "metadata": {},
   "source": [
    "Filtrando as cotações dos 10 que mais subiram"
   ]
  },
  {
   "cell_type": "code",
   "execution_count": null,
   "id": "44049856",
   "metadata": {},
   "outputs": [],
   "source": [
    "fiis[list(rentabilidade_fiis.sort_values(ascending  = False).head(10).index)].iloc[-1]"
   ]
  },
  {
   "cell_type": "markdown",
   "id": "c62a0902",
   "metadata": {},
   "source": [
    "# Visualizando performance normalizada"
   ]
  },
  {
   "cell_type": "code",
   "execution_count": null,
   "id": "ac38cfab",
   "metadata": {},
   "outputs": [],
   "source": [
    "fiis_norm[list(rentabilidade_fiis.sort_values(ascending  = False).head(10).index)].plot(figsize = (10,6))"
   ]
  }
 ],
 "metadata": {
  "kernelspec": {
   "display_name": "Python 3 (ipykernel)",
   "language": "python",
   "name": "python3"
  },
  "language_info": {
   "codemirror_mode": {
    "name": "ipython",
    "version": 3
   },
   "file_extension": ".py",
   "mimetype": "text/x-python",
   "name": "python",
   "nbconvert_exporter": "python",
   "pygments_lexer": "ipython3",
   "version": "3.12.4"
  }
 },
 "nbformat": 4,
 "nbformat_minor": 5
}
